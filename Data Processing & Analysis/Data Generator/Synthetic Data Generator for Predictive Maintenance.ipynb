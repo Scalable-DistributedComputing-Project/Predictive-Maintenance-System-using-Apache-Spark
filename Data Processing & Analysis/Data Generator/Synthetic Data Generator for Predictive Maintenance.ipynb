{
 "cells": [
  {
   "cell_type": "code",
   "execution_count": 1,
   "id": "initial_id",
   "metadata": {
    "ExecuteTime": {
     "end_time": "2024-10-03T14:50:31.127900Z",
     "start_time": "2024-10-03T14:50:30.367130Z"
    },
    "collapsed": true
   },
   "outputs": [],
   "source": [
    "import pandas as pd\n",
    "import numpy as np\n",
    "from datetime import datetime, timedelta\n",
    "import os"
   ]
  },
  {
   "cell_type": "code",
   "execution_count": 2,
   "id": "ad39c6aa60ddd52f",
   "metadata": {
    "ExecuteTime": {
     "end_time": "2024-10-03T14:50:31.133893Z",
     "start_time": "2024-10-03T14:50:31.128908Z"
    }
   },
   "outputs": [],
   "source": [
    "# Define column structures\n",
    "SENSOR_COLUMNS = {\n",
    "    'equipment_id': np.int32,\n",
    "    'timestamp': 'datetime64[ns]',\n",
    "    'temperature': np.float32,\n",
    "    'vibration': np.float32,\n",
    "    'pressure': np.float32,\n",
    "    'rotational_speed': np.float32,\n",
    "    'power_output': np.float32,\n",
    "    'noise_level': np.float32,\n",
    "    'voltage': np.float32,\n",
    "    'current': np.float32,\n",
    "    'oil_viscosity': np.float32\n",
    "}\n",
    "\n",
    "MAINTENANCE_COLUMNS = {\n",
    "    'equipment_id': np.int32,\n",
    "    'date': 'datetime64[ns]',\n",
    "    'maintenance_type': 'category',\n",
    "    'description': str,\n",
    "    'technician_id': np.int32,\n",
    "    'duration_hours': np.float32,\n",
    "    'cost': np.float32,\n",
    "    'parts_replaced': str,\n",
    "    'maintenance_result': 'category'\n",
    "}\n",
    "\n",
    "EQUIPMENT_COLUMNS = {\n",
    "    'equipment_id': np.int32,\n",
    "    'model': str,\n",
    "    'manufacturer': 'category',\n",
    "    'installation_date': 'datetime64[ns]',\n",
    "    'max_temperature': np.float32,\n",
    "    'max_pressure': np.float32,\n",
    "    'max_rotational_speed': np.float32,\n",
    "    'expected_lifetime_years': np.float32,\n",
    "    'warranty_period_years': np.int32,\n",
    "    'last_major_overhaul': 'datetime64[ns]',\n",
    "    'location': str,\n",
    "    'criticality': 'category'\n",
    "}\n",
    "\n",
    "OPERATIONAL_COLUMNS = {\n",
    "    'equipment_id': np.int32,\n",
    "    'date': 'datetime64[ns]',\n",
    "    'production_rate': np.float32,\n",
    "    'operating_hours': np.float32,\n",
    "    'downtime_hours': np.float32,\n",
    "    'operator_id': np.int32,\n",
    "    'product_type': 'category',\n",
    "    'raw_material_quality': 'category',\n",
    "    'ambient_temperature': np.float32,\n",
    "    'ambient_humidity': np.float32\n",
    "}"
   ]
  },
  {
   "cell_type": "code",
   "execution_count": 3,
   "id": "1c7d2e2f9789f1f2",
   "metadata": {
    "ExecuteTime": {
     "end_time": "2024-10-03T14:50:31.140410Z",
     "start_time": "2024-10-03T14:50:31.134901Z"
    }
   },
   "outputs": [],
   "source": [
    "def generate_sensor_data(num_equipment, num_days):\n",
    "    start_date = datetime.now() - timedelta(days=num_days)\n",
    "    date_range = pd.date_range(start=start_date, periods=num_days*2, freq='12H')\n",
    "    \n",
    "    data = []\n",
    "    for equipment_id in range(1, num_equipment + 1):\n",
    "        for timestamp in date_range:\n",
    "            data.append({\n",
    "                'equipment_id': equipment_id,\n",
    "                'timestamp': timestamp,\n",
    "                'temperature': np.random.normal(60, 10),\n",
    "                'vibration': np.random.normal(0.5, 0.1),\n",
    "                'pressure': np.random.normal(100, 20),\n",
    "                'rotational_speed': np.random.normal(1000, 100),\n",
    "                'power_output': np.random.normal(500, 50),\n",
    "                'noise_level': np.random.normal(70, 5),\n",
    "                'voltage': np.random.normal(220, 10),\n",
    "                'current': np.random.normal(100, 10),\n",
    "                'oil_viscosity': np.random.normal(50, 5)\n",
    "            })\n",
    "    \n",
    "    df = pd.DataFrame(data)\n",
    "    return df.astype(SENSOR_COLUMNS)"
   ]
  },
  {
   "cell_type": "code",
   "execution_count": 4,
   "id": "92300c46f393ddc7",
   "metadata": {
    "ExecuteTime": {
     "end_time": "2024-10-03T14:50:31.146967Z",
     "start_time": "2024-10-03T14:50:31.141952Z"
    }
   },
   "outputs": [],
   "source": [
    "def generate_maintenance_logs(num_equipment, num_years):\n",
    "    end_date = datetime.now()\n",
    "    start_date = end_date - timedelta(days=365 * num_years)\n",
    "    date_range = pd.date_range(start=start_date, end=end_date)\n",
    "    \n",
    "    data = []\n",
    "    for equipment_id in range(1, num_equipment + 1):\n",
    "        for date in date_range:\n",
    "            if np.random.random() < 0.01:  # 1% chance of maintenance event\n",
    "                maintenance_type = np.random.choice(['Routine', 'Repair', 'Replacement', 'Inspection'])\n",
    "                data.append({\n",
    "                    'equipment_id': equipment_id,\n",
    "                    'date': date,\n",
    "                    'maintenance_type': maintenance_type,\n",
    "                    'description': f\"{maintenance_type} maintenance performed\",\n",
    "                    'technician_id': np.random.randint(1, 51),\n",
    "                    'duration_hours': np.random.uniform(1, 8),\n",
    "                    'cost': np.random.uniform(100, 5000),\n",
    "                    'parts_replaced': np.random.choice(['None', 'Bearings', 'Seals', 'Filters', 'Motor'], p=[0.6, 0.1, 0.1, 0.1, 0.1]),\n",
    "                    'maintenance_result': np.random.choice(['Successful', 'Partial', 'Failed'], p=[0.8, 0.15, 0.05])\n",
    "                })\n",
    "    \n",
    "    df = pd.DataFrame(data)\n",
    "    return df.astype(MAINTENANCE_COLUMNS)"
   ]
  },
  {
   "cell_type": "code",
   "execution_count": 5,
   "id": "c61365cdc5187ee7",
   "metadata": {
    "ExecuteTime": {
     "end_time": "2024-10-03T14:50:31.153615Z",
     "start_time": "2024-10-03T14:50:31.147996Z"
    }
   },
   "outputs": [],
   "source": [
    "def generate_equipment_specs(num_equipment):\n",
    "    data = []\n",
    "    for equipment_id in range(1, num_equipment + 1):\n",
    "        installation_date = datetime.now() - timedelta(days=np.random.randint(365, 3650))\n",
    "        data.append({\n",
    "            'equipment_id': equipment_id,\n",
    "            'model': f\"Model-{np.random.randint(1000, 9999)}\",\n",
    "            'manufacturer': np.random.choice(['ManufacturerA', 'ManufacturerB', 'ManufacturerC']),\n",
    "            'installation_date': installation_date,\n",
    "            'max_temperature': np.random.uniform(80, 100),\n",
    "            'max_pressure': np.random.uniform(150, 200),\n",
    "            'max_rotational_speed': np.random.uniform(1000, 2000),\n",
    "            'expected_lifetime_years': np.random.uniform(10, 20),\n",
    "            'warranty_period_years': np.random.randint(1, 6),\n",
    "            'last_major_overhaul': installation_date + timedelta(days=np.random.randint(365, 1825)),\n",
    "            'location': f\"Section-{np.random.randint(1, 6)}\",\n",
    "            'criticality': np.random.choice(['High', 'Medium', 'Low'], p=[0.2, 0.5, 0.3])\n",
    "        })\n",
    "    \n",
    "    df = pd.DataFrame(data)\n",
    "    return df.astype(EQUIPMENT_COLUMNS)"
   ]
  },
  {
   "cell_type": "code",
   "execution_count": 6,
   "id": "2ed1f1c14910e453",
   "metadata": {
    "ExecuteTime": {
     "end_time": "2024-10-03T14:50:31.160623Z",
     "start_time": "2024-10-03T14:50:31.154623Z"
    }
   },
   "outputs": [],
   "source": [
    "def generate_operational_data(num_equipment, num_days):\n",
    "    start_date = datetime.now() - timedelta(days=num_days)\n",
    "    date_range = pd.date_range(start=start_date, periods=num_days)\n",
    "    \n",
    "    data = []\n",
    "    for equipment_id in range(1, num_equipment + 1):\n",
    "        for date in date_range:\n",
    "            data.append({\n",
    "                'equipment_id': equipment_id,\n",
    "                'date': date,\n",
    "                'production_rate': np.random.uniform(80, 100),\n",
    "                'operating_hours': np.random.uniform(20, 24),\n",
    "                'downtime_hours': np.random.uniform(0, 4),\n",
    "                'operator_id': np.random.randint(1, 101),\n",
    "                'product_type': np.random.choice(['TypeA', 'TypeB', 'TypeC']),\n",
    "                'raw_material_quality': np.random.choice(['High', 'Medium', 'Low'], p=[0.7, 0.2, 0.1]),\n",
    "                'ambient_temperature': np.random.normal(25, 5),\n",
    "                'ambient_humidity': np.random.uniform(30, 70)\n",
    "            })\n",
    "    \n",
    "    df = pd.DataFrame(data)\n",
    "    return df.astype(OPERATIONAL_COLUMNS)"
   ]
  },
  {
   "cell_type": "code",
   "execution_count": 7,
   "id": "336a669e25c5eda4",
   "metadata": {
    "ExecuteTime": {
     "end_time": "2024-10-03T14:50:31.165820Z",
     "start_time": "2024-10-03T14:50:31.161130Z"
    }
   },
   "outputs": [],
   "source": [
    "def get_dataframe_size(df):\n",
    "    return df.memory_usage(deep=True).sum() / (1024 * 1024)  # Size in MB\n",
    "\n",
    "def print_dataset_info(name, df, columns):\n",
    "    print(f\"\\n{name} Dataset:\")\n",
    "    print(f\"Number of rows: {df.shape[0]}\")\n",
    "    print(f\"Size in memory: {get_dataframe_size(df):.2f} MB\")\n",
    "    print(\"Columns:\")\n",
    "    for col, dtype in columns.items():\n",
    "        print(f\"  - {col}: {dtype}\")"
   ]
  },
  {
   "cell_type": "code",
   "execution_count": 8,
   "id": "8617facd22eeee18",
   "metadata": {
    "ExecuteTime": {
     "end_time": "2024-10-03T14:56:54.127598Z",
     "start_time": "2024-10-03T14:50:31.166829Z"
    }
   },
   "outputs": [
    {
     "name": "stdout",
     "output_type": "stream",
     "text": [
      "Generating datasets...\n"
     ]
    },
    {
     "name": "stderr",
     "output_type": "stream",
     "text": [
      "/tmp/ipykernel_72698/1055148576.py:3: FutureWarning: 'H' is deprecated and will be removed in a future version, please use 'h' instead.\n",
      "  date_range = pd.date_range(start=start_date, periods=num_days*2, freq='12H')\n"
     ]
    }
   ],
   "source": [
    "# Generate datasets\n",
    "num_equipment = 100\n",
    "num_days = 365 # 1 year\n",
    "num_years = 1\n",
    "\n",
    "print(\"Generating datasets...\")\n",
    "sensor_data = generate_sensor_data(num_equipment, num_days)\n",
    "maintenance_logs = generate_maintenance_logs(num_equipment, num_years)\n",
    "equipment_specs = generate_equipment_specs(num_equipment)\n",
    "operational_data = generate_operational_data(num_equipment, num_days)"
   ]
  },
  {
   "cell_type": "code",
   "execution_count": 9,
   "id": "d35a1ba166029af7",
   "metadata": {
    "ExecuteTime": {
     "end_time": "2024-10-03T15:00:29.082983Z",
     "start_time": "2024-10-03T14:56:54.138127Z"
    }
   },
   "outputs": [
    {
     "name": "stdout",
     "output_type": "stream",
     "text": [
      "\n",
      "Sensor Data Dataset:\n",
      "Number of rows: 73000\n",
      "Size in memory: 3.34 MB\n",
      "Columns:\n",
      "  - equipment_id: <class 'numpy.int32'>\n",
      "  - timestamp: datetime64[ns]\n",
      "  - temperature: <class 'numpy.float32'>\n",
      "  - vibration: <class 'numpy.float32'>\n",
      "  - pressure: <class 'numpy.float32'>\n",
      "  - rotational_speed: <class 'numpy.float32'>\n",
      "  - power_output: <class 'numpy.float32'>\n",
      "  - noise_level: <class 'numpy.float32'>\n",
      "  - voltage: <class 'numpy.float32'>\n",
      "  - current: <class 'numpy.float32'>\n",
      "  - oil_viscosity: <class 'numpy.float32'>\n",
      "\n",
      "Maintenance Logs Dataset:\n",
      "Number of rows: 370\n",
      "Size in memory: 0.07 MB\n",
      "Columns:\n",
      "  - equipment_id: <class 'numpy.int32'>\n",
      "  - date: datetime64[ns]\n",
      "  - maintenance_type: category\n",
      "  - description: <class 'str'>\n",
      "  - technician_id: <class 'numpy.int32'>\n",
      "  - duration_hours: <class 'numpy.float32'>\n",
      "  - cost: <class 'numpy.float32'>\n",
      "  - parts_replaced: <class 'str'>\n",
      "  - maintenance_result: category\n",
      "\n",
      "Equipment Specifications Dataset:\n",
      "Number of rows: 100\n",
      "Size in memory: 0.02 MB\n",
      "Columns:\n",
      "  - equipment_id: <class 'numpy.int32'>\n",
      "  - model: <class 'str'>\n",
      "  - manufacturer: category\n",
      "  - installation_date: datetime64[ns]\n",
      "  - max_temperature: <class 'numpy.float32'>\n",
      "  - max_pressure: <class 'numpy.float32'>\n",
      "  - max_rotational_speed: <class 'numpy.float32'>\n",
      "  - expected_lifetime_years: <class 'numpy.float32'>\n",
      "  - warranty_period_years: <class 'numpy.int32'>\n",
      "  - last_major_overhaul: datetime64[ns]\n",
      "  - location: <class 'str'>\n",
      "  - criticality: category\n",
      "\n",
      "Operational Data Dataset:\n",
      "Number of rows: 36500\n",
      "Size in memory: 1.32 MB\n",
      "Columns:\n",
      "  - equipment_id: <class 'numpy.int32'>\n",
      "  - date: datetime64[ns]\n",
      "  - production_rate: <class 'numpy.float32'>\n",
      "  - operating_hours: <class 'numpy.float32'>\n",
      "  - downtime_hours: <class 'numpy.float32'>\n",
      "  - operator_id: <class 'numpy.int32'>\n",
      "  - product_type: category\n",
      "  - raw_material_quality: category\n",
      "  - ambient_temperature: <class 'numpy.float32'>\n",
      "  - ambient_humidity: <class 'numpy.float32'>\n"
     ]
    }
   ],
   "source": [
    "# Print dataset information\n",
    "print_dataset_info(\"Sensor Data\", sensor_data, SENSOR_COLUMNS)\n",
    "print_dataset_info(\"Maintenance Logs\", maintenance_logs, MAINTENANCE_COLUMNS)\n",
    "print_dataset_info(\"Equipment Specifications\", equipment_specs, EQUIPMENT_COLUMNS)\n",
    "print_dataset_info(\"Operational Data\", operational_data, OPERATIONAL_COLUMNS)\n",
    "\n",
    "# Save datasets to CSV files\n",
    "sensor_data.to_csv('sensor_data.csv', index=False)\n",
    "maintenance_logs.to_csv('maintenance_logs.csv', index=False)\n",
    "equipment_specs.to_csv('equipment_specs.csv', index=False)\n",
    "operational_data.to_csv('operational_data.csv', index=False)"
   ]
  },
  {
   "cell_type": "code",
   "execution_count": 10,
   "id": "5a065fcbe01d182e",
   "metadata": {
    "ExecuteTime": {
     "end_time": "2024-10-03T15:00:29.090184Z",
     "start_time": "2024-10-03T15:00:29.084989Z"
    }
   },
   "outputs": [
    {
     "name": "stdout",
     "output_type": "stream",
     "text": [
      "\n",
      "Total size of all CSV files: 11.41 MB\n"
     ]
    }
   ],
   "source": [
    "# Calculate total size of CSV files\n",
    "total_size_mb = sum(os.path.getsize(f) for f in ['sensor_data.csv', 'maintenance_logs.csv', 'equipment_specs.csv', 'operational_data.csv']) / (1024 * 1024)\n",
    "print(f\"\\nTotal size of all CSV files: {total_size_mb:.2f} MB\")"
   ]
  }
 ],
 "metadata": {
  "kernelspec": {
   "display_name": "base",
   "language": "python",
   "name": "python3"
  },
  "language_info": {
   "codemirror_mode": {
    "name": "ipython",
    "version": 3
   },
   "file_extension": ".py",
   "mimetype": "text/x-python",
   "name": "python",
   "nbconvert_exporter": "python",
   "pygments_lexer": "ipython3",
   "version": "3.12.2"
  }
 },
 "nbformat": 4,
 "nbformat_minor": 5
}
