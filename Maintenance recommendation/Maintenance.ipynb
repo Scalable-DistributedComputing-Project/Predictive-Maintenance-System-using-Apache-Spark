{
 "cells": [
  {
   "cell_type": "code",
   "execution_count": 12,
   "metadata": {},
   "outputs": [],
   "source": [
    "import pyspark\n",
    "from pyspark.sql.functions import when, col\n",
    "from pyspark.sql.types import StructType, StructField, IntegerType, DoubleType, StringType, TimestampType\n",
    "from pyspark.sql import SparkSession\n",
    "from pyspark.sql import functions as F"
   ]
  },
  {
   "cell_type": "code",
   "execution_count": 13,
   "metadata": {},
   "outputs": [],
   "source": [
    "spark=SparkSession.builder.appName('Practise').getOrCreate()\n"
   ]
  },
  {
   "cell_type": "code",
   "execution_count": 14,
   "metadata": {},
   "outputs": [
    {
     "name": "stdout",
     "output_type": "stream",
     "text": [
      "+------------+-----------------------+-----------+----------+---------+----------------+------------+-----------+---------+---------+-------------+----------+-------------+-----------------------+---------------+------------+--------------------+-----------------------+---------------------+-----------------------+---------+-----------+----------------+-----------------------------+-------------+--------------+---------+--------------+------------------+-----------------------+---------------+------------------+-----------------+-----------+------------+--------------------+-------------------+----------------+-----------------------+----------------------+------------------+-------------------+------------------+-------------------+------------------+---------------------------+--------------------------+-------------+-------------------+------------------------+--------------------------+--------------------+----------------------------+----------------------+-----------------+--------------+----------------------+------------------+-----------------+-------------+-------------+-------------------+-------+\n",
      "|equipment_id|timestamp              |temperature|vibration |pressure |rotational_speed|power_output|noise_level|voltage  |current  |oil_viscosity|model     |manufacturer |installation_date      |max_temperature|max_pressure|max_rotational_speed|expected_lifetime_years|warranty_period_years|last_major_overhaul    |location |criticality|maintenance_type|description                  |technician_id|duration_hours|cost     |parts_replaced|maintenance_result|maintenance_date       |production_rate|operating_hours   |downtime_hours   |operator_id|product_type|raw_material_quality|ambient_temperature|ambient_humidity|operation_date         |days_since_maintenance|equipment_age_days|days_since_overhaul|temp_pct_of_max   |pressure_pct_of_max|speed_pct_of_max  |cumulative_maintenance_cost|cumulative_operating_hours|estimated_rul|criticality_encoded|maintenance_type_encoded|maintenance_result_encoded|product_type_encoded|raw_material_quality_encoded|parts_replaced_encoded|temperature_alert|pressure_alert|rotational_speed_alert|power_output_alert|noise_level_alert|voltage_alert|current_alert|oil_viscosity_alert|alert  |\n",
      "+------------+-----------------------+-----------+----------+---------+----------------+------------+-----------+---------+---------+-------------+----------+-------------+-----------------------+---------------+------------+--------------------+-----------------------+---------------------+-----------------------+---------+-----------+----------------+-----------------------------+-------------+--------------+---------+--------------+------------------+-----------------------+---------------+------------------+-----------------+-----------+------------+--------------------+-------------------+----------------+-----------------------+----------------------+------------------+-------------------+------------------+-------------------+------------------+---------------------------+--------------------------+-------------+-------------------+------------------------+--------------------------+--------------------+----------------------------+----------------------+-----------------+--------------+----------------------+------------------+-----------------+-------------+-------------+-------------------+-------+\n",
      "|1           |2024-05-21 14:54:00.226|62.29391   |0.38600662|102.67639|1254.7874       |470.0774    |69.76519   |223.38998|105.57472|44.44392     |Model-5308|ManufacturerB|2015-10-22 14:54:00.804|83.05091       |188.24435   |1166.8541           |19.752157              |1                    |2017-12-21 14:54:00.804|Section-1|Medium     |Routine         |Routine maintenance performed|9            |7.819127      |159.87044|Seals         |Successful        |2024-09-14 14:54:00.766|95.751816      |20.595163         |2.0935876        |68         |TypeB       |High                |30.412014          |58.801975       |2024-05-21 14:54:00.808|116                   |3134              |2343               |75.00689637235763 |54.544208099738455 |107.53592929913003|159.87044                  |20.595163                 |4075.537305  |0.0                |3.0                     |0.0                       |0.0                 |0.0                         |1.0                   |Normal           |Normal        |Danger                |Normal            |Normal           |Normal       |Normal       |Normal             |Danger |\n",
      "|1           |2024-05-22 02:54:00.226|62.34231   |0.44370145|89.344536|942.1218        |449.72906   |64.45927   |228.45743|101.16392|54.92587     |Model-5308|ManufacturerB|2015-10-22 14:54:00.804|83.05091       |188.24435   |1166.8541           |19.752157              |1                    |2017-12-21 14:54:00.804|Section-1|Medium     |Routine         |Routine maintenance performed|9            |7.819127      |159.87044|Seals         |Successful        |2024-09-14 14:54:00.766|82.48747       |20.193354         |2.3241408        |51         |TypeA       |High                |12.546379          |41.60704        |2024-05-22 14:54:00.808|115                   |3135              |2344               |75.0651738794915  |47.46200138277723  |80.74032563282762 |319.74088                  |40.788517                 |4074.537305  |0.0                |3.0                     |0.0                       |2.0                 |0.0                         |1.0                   |Normal           |Normal        |Warning               |Normal            |Normal           |Normal       |Normal       |Normal             |Warning|\n",
      "|1           |2024-05-22 14:54:00.226|48.20941   |0.38183844|120.86258|1031.1465       |418.68243   |63.884216  |219.40497|107.26134|54.136196    |Model-5308|ManufacturerB|2015-10-22 14:54:00.804|83.05091       |188.24435   |1166.8541           |19.752157              |1                    |2017-12-21 14:54:00.804|Section-1|Medium     |Routine         |Routine maintenance performed|9            |7.819127      |159.87044|Seals         |Successful        |2024-09-14 14:54:00.766|82.48747       |20.193354         |2.3241408        |51         |TypeA       |High                |12.546379          |41.60704        |2024-05-22 14:54:00.808|115                   |3135              |2344               |58.048021388326745|64.20515675503674  |88.36978847655419 |479.61132                  |60.981871                 |4074.537305  |0.0                |3.0                     |0.0                       |2.0                 |0.0                         |1.0                   |Normal           |Normal        |Warning               |Normal            |Normal           |Normal       |Normal       |Normal             |Warning|\n",
      "|1           |2024-05-23 02:54:00.226|46.09723   |0.528641  |70.69653 |1056.9968       |560.51294   |75.921974  |220.7598 |104.95298|55.066605    |Model-5308|ManufacturerB|2015-10-22 14:54:00.804|83.05091       |188.24435   |1166.8541           |19.752157              |1                    |2017-12-21 14:54:00.804|Section-1|Medium     |Routine         |Routine maintenance performed|9            |7.819127      |159.87044|Seals         |Successful        |2024-09-14 14:54:00.766|91.31933       |21.976486434938792|2.023513565061208|31         |TypeC       |High                |28.647215          |40.01256        |2024-05-23 14:54:00.808|114                   |3136              |2345               |55.50478616068144 |37.555724780053154 |90.58517255927711 |639.48176                  |82.95835743493879         |4073.537305  |0.0                |3.0                     |0.0                       |1.0                 |0.0                         |1.0                   |Normal           |Normal        |Danger                |Normal            |Normal           |Normal       |Normal       |Normal             |Danger |\n",
      "|1           |2024-05-23 14:54:00.226|56.484352  |0.42702046|102.9593 |1009.81573      |482.06793   |69.31188   |226.03604|99.166954|48.465614    |Model-5308|ManufacturerB|2015-10-22 14:54:00.804|83.05091       |188.24435   |1166.8541           |19.752157              |1                    |2017-12-21 14:54:00.804|Section-1|Medium     |Routine         |Routine maintenance performed|9            |7.819127      |159.87044|Seals         |Successful        |2024-09-14 14:54:00.766|91.31933       |21.976486434938792|2.023513565061208|31         |TypeC       |High                |28.647215          |40.01256        |2024-05-23 14:54:00.808|114                   |3136              |2345               |68.01171955852139 |54.69449680694268  |86.54173045284753 |799.3522                   |104.93484386987758        |4073.537305  |0.0                |3.0                     |0.0                       |1.0                 |0.0                         |1.0                   |Normal           |Normal        |Warning               |Normal            |Normal           |Normal       |Normal       |Normal             |Warning|\n",
      "+------------+-----------------------+-----------+----------+---------+----------------+------------+-----------+---------+---------+-------------+----------+-------------+-----------------------+---------------+------------+--------------------+-----------------------+---------------------+-----------------------+---------+-----------+----------------+-----------------------------+-------------+--------------+---------+--------------+------------------+-----------------------+---------------+------------------+-----------------+-----------+------------+--------------------+-------------------+----------------+-----------------------+----------------------+------------------+-------------------+------------------+-------------------+------------------+---------------------------+--------------------------+-------------+-------------------+------------------------+--------------------------+--------------------+----------------------------+----------------------+-----------------+--------------+----------------------+------------------+-----------------+-------------+-------------+-------------------+-------+\n",
      "only showing top 5 rows\n",
      "\n"
     ]
    }
   ],
   "source": [
    "df = spark.read.csv(r\"C:\\Users\\Son Phan\\Downloads\\alerts_output\\alerts.csv\",header=True, inferSchema = True)\n",
    "df.show(5, truncate=False)"
   ]
  },
  {
   "cell_type": "markdown",
   "metadata": {},
   "source": [
    "# Condition"
   ]
  },
  {
   "cell_type": "code",
   "execution_count": 15,
   "metadata": {},
   "outputs": [],
   "source": [
    "# 1 Alert Condition Score \n",
    "df = df.withColumn(\"alert_score\",\n",
    "    when(col(\"alert\") == \"Normal\", 0)\n",
    "    .when(col(\"alert\") == \"Warning\", 30)\n",
    "    .when(col(\"alert\") == \"Danger\", 50)\n",
    ")\n",
    "\n",
    "# 1. Age Condition Score\n",
    "df = df.withColumn(\n",
    "    \"age_condition_score\",\n",
    "    when(col(\"equipment_age_days\") / (col(\"expected_lifetime_years\") * 365) >= 0.65, 10).otherwise(0)\n",
    ")\n",
    "\n",
    "# 2. Downtime Condition Score\n",
    "df = df.withColumn(\n",
    "    \"downtime_condition_score\",\n",
    "    when((col(\"downtime_hours\") / (col(\"operating_hours\") + col(\"downtime_hours\"))) > 0.05, 10).otherwise(0)\n",
    ")\n",
    "\n",
    "# 3. Maintenance Condition Score (increased threshold to 60%)\n",
    "df = df.withColumn(\n",
    "    \"maintenance_condition_score\",\n",
    "    when((col(\"days_since_maintenance\") / (col(\"warranty_period_years\") * 365)) > 0.5, 10).otherwise(0)\n",
    ")\n",
    "\n",
    "# 4. Environment Condition Score (increased thresholds for extreme conditions)\n",
    "df = df.withColumn(\n",
    "    \"environment_condition_score\",\n",
    "    when((col(\"ambient_temperature\") > 40) | (col(\"ambient_humidity\") > 60), 10).otherwise(0)\n",
    ")\n"
   ]
  },
  {
   "cell_type": "code",
   "execution_count": 16,
   "metadata": {},
   "outputs": [],
   "source": [
    "# 5. Điều kiện chi phí bảo trì\n",
    "\n",
    "initial_columns = df.columns\n",
    "\n",
    "if \"criticality_avg_annual_cost\" in df.columns:\n",
    "    filtered_output2 = df.drop(\"criticality_avg_annual_cost\")\n",
    "\n",
    "# Tính chi phí bảo trì trung bình hàng năm theo mức độ quan trọng của thiết bị\n",
    "maintenance_avg_by_criticality = df.groupBy(\"criticality\").agg(\n",
    "    (F.avg(F.col(\"cumulative_maintenance_cost\") / F.col(\"warranty_period_years\"))).alias(\"criticality_avg_annual_cost\")\n",
    ")\n",
    "\n",
    "df = df.join(\n",
    "    maintenance_avg_by_criticality,\n",
    "    on=\"criticality\",\n",
    "    how=\"left\" \n",
    ")\n",
    "\n",
    "# Tính 150% của chi phí trung bình nhóm và thêm cột này vào dataset\n",
    "df = df.withColumn(\"threshold\", 1.5 * F.col(\"criticality_avg_annual_cost\"))\n",
    "\n",
    "df = df.withColumn(\n",
    "    \"maintenance_cost_condition_score\",\n",
    "    F.when(F.col(\"cumulative_maintenance_cost\") / F.col(\"warranty_period_years\") > F.col(\"threshold\"), 10).otherwise(0)\n",
    ")\n",
    "\n",
    "final_columns = initial_columns + [\"criticality_avg_annual_cost\", \"threshold\", \"maintenance_cost_condition_score\"]\n",
    "df = df.select(final_columns)\n",
    "\n",
    "# Calculate the total operational score by summing up all condition scores\n",
    "df = df.withColumn(\n",
    "    \"operational_score\",\n",
    "    col(\"age_condition_score\") + col(\"downtime_condition_score\") + col(\"maintenance_condition_score\") + col(\"environment_condition_score\") + col(\"maintenance_cost_condition_score\")\n",
    ")"
   ]
  },
  {
   "cell_type": "code",
   "execution_count": 17,
   "metadata": {},
   "outputs": [
    {
     "name": "stdout",
     "output_type": "stream",
     "text": [
      "Statistics for column: age_condition_score\n",
      "+-------------------+-----+-----------------+\n",
      "|age_condition_score|count|       percentage|\n",
      "+-------------------+-----+-----------------+\n",
      "|                  0|60508|84.69527728786989|\n",
      "|                 10|10934|15.30472271213012|\n",
      "+-------------------+-----+-----------------+\n",
      "\n",
      "Statistics for column: downtime_condition_score\n",
      "+------------------------+-----+------------------+\n",
      "|downtime_condition_score|count|        percentage|\n",
      "+------------------------+-----+------------------+\n",
      "|                       0|17064|23.885109599395314|\n",
      "|                      10|54378| 76.11489040060468|\n",
      "+------------------------+-----+------------------+\n",
      "\n",
      "Statistics for column: maintenance_condition_score\n",
      "+---------------------------+-----+-----------------+\n",
      "|maintenance_condition_score|count|       percentage|\n",
      "+---------------------------+-----+-----------------+\n",
      "|                          0|66442| 93.0013157526385|\n",
      "|                         10| 5000|6.998684247361496|\n",
      "+---------------------------+-----+-----------------+\n",
      "\n",
      "Statistics for column: environment_condition_score\n",
      "+---------------------------+-----+------------------+\n",
      "|environment_condition_score|count|        percentage|\n",
      "+---------------------------+-----+------------------+\n",
      "|                          0|53543| 74.94611013129531|\n",
      "|                         10|17899|25.053889868704683|\n",
      "+---------------------------+-----+------------------+\n",
      "\n",
      "Statistics for column: maintenance_cost_condition_score\n",
      "+--------------------------------+-----+-----------------+\n",
      "|maintenance_cost_condition_score|count|       percentage|\n",
      "+--------------------------------+-----+-----------------+\n",
      "|                               0|56432|78.98994988942079|\n",
      "|                              10|15010|21.01005011057921|\n",
      "+--------------------------------+-----+-----------------+\n",
      "\n",
      "Statistics for column: operational_score\n",
      "+-----------------+-----+------------------+\n",
      "|operational_score|count|        percentage|\n",
      "+-----------------+-----+------------------+\n",
      "|                0| 7755| 10.85495926765768|\n",
      "|               10|31889|44.636208392822155|\n",
      "|               20|24619| 34.46012149715854|\n",
      "|               30| 6622| 9.269057417205566|\n",
      "|               40|  557|0.7796534251560706|\n",
      "+-----------------+-----+------------------+\n",
      "\n",
      "Statistics for column: alert_score\n",
      "+-----------+-----+------------------+\n",
      "|alert_score|count|        percentage|\n",
      "+-----------+-----+------------------+\n",
      "|          0|37871| 53.00943422636545|\n",
      "|         30|21397|29.950169368158786|\n",
      "|         50|12174| 17.04039640547577|\n",
      "+-----------+-----+------------------+\n",
      "\n"
     ]
    }
   ],
   "source": [
    "columns = [\n",
    "    \"age_condition_score\",\n",
    "    \"downtime_condition_score\",\n",
    "    \"maintenance_condition_score\",\n",
    "    \"environment_condition_score\",\n",
    "    \"maintenance_cost_condition_score\",\n",
    "    \"operational_score\",\n",
    "    \"alert_score\"\n",
    "]\n",
    "\n",
    "for col in columns:\n",
    "    result = (\n",
    "        df.groupBy(col)\n",
    "        .agg(\n",
    "            F.count(col).alias(\"count\"),\n",
    "            (F.count(col) / df.count() * 100).alias(\"percentage\")\n",
    "        )\n",
    "        .orderBy(col)\n",
    "    )\n",
    "    print(f\"Statistics for column: {col}\")\n",
    "    result.show()"
   ]
  },
  {
   "cell_type": "code",
   "execution_count": 18,
   "metadata": {},
   "outputs": [
    {
     "name": "stdout",
     "output_type": "stream",
     "text": [
      "+-----------------------+-----+------------------+\n",
      "|maintenance_needed     |count|percentage        |\n",
      "+-----------------------+-----+------------------+\n",
      "|Maintenance required   |12730|17.818650093782367|\n",
      "|No maintenance required|58712|82.18134990621763 |\n",
      "+-----------------------+-----+------------------+\n",
      "\n"
     ]
    }
   ],
   "source": [
    "from pyspark.sql.functions import when, col\n",
    "# Calculate the total score by adding alert_score and operational_score\n",
    "df = df.withColumn(\"total_score\", col(\"alert_score\") + col(\"operational_score\"))\n",
    "\n",
    "# Define the \"broken\" status based on total_score\n",
    "df = df.withColumn(\n",
    "    \"maintenance_needed\",\n",
    "    when(col(\"total_score\") >= 60, \"Maintenance required\").otherwise(\"No maintenance required\")\n",
    ")\n",
    "\n",
    "# Calculate the total count of rows\n",
    "total_count = df.count()\n",
    "\n",
    "df_counts = df.groupBy(\"maintenance_needed\").count()\n",
    "\n",
    "# Calculate the percentage for each category\n",
    "df_percentage = df_counts.withColumn(\"percentage\", (col(\"count\") / total_count) * 100)\n",
    "\n",
    "# Show the result\n",
    "df_percentage.select(\"maintenance_needed\", \"count\", \"percentage\").show(truncate=False)"
   ]
  },
  {
   "cell_type": "code",
   "execution_count": 19,
   "metadata": {},
   "outputs": [
    {
     "name": "stdout",
     "output_type": "stream",
     "text": [
      "root\n",
      " |-- equipment_id: integer (nullable = true)\n",
      " |-- timestamp: timestamp (nullable = true)\n",
      " |-- temperature: double (nullable = true)\n",
      " |-- vibration: double (nullable = true)\n",
      " |-- pressure: double (nullable = true)\n",
      " |-- rotational_speed: double (nullable = true)\n",
      " |-- power_output: double (nullable = true)\n",
      " |-- noise_level: double (nullable = true)\n",
      " |-- voltage: double (nullable = true)\n",
      " |-- current: double (nullable = true)\n",
      " |-- oil_viscosity: double (nullable = true)\n",
      " |-- model: string (nullable = true)\n",
      " |-- manufacturer: string (nullable = true)\n",
      " |-- installation_date: timestamp (nullable = true)\n",
      " |-- max_temperature: double (nullable = true)\n",
      " |-- max_pressure: double (nullable = true)\n",
      " |-- max_rotational_speed: double (nullable = true)\n",
      " |-- expected_lifetime_years: double (nullable = true)\n",
      " |-- warranty_period_years: integer (nullable = true)\n",
      " |-- last_major_overhaul: timestamp (nullable = true)\n",
      " |-- location: string (nullable = true)\n",
      " |-- criticality: string (nullable = true)\n",
      " |-- maintenance_type: string (nullable = true)\n",
      " |-- description: string (nullable = true)\n",
      " |-- technician_id: integer (nullable = true)\n",
      " |-- duration_hours: double (nullable = true)\n",
      " |-- cost: double (nullable = true)\n",
      " |-- parts_replaced: string (nullable = true)\n",
      " |-- maintenance_result: string (nullable = true)\n",
      " |-- maintenance_date: timestamp (nullable = true)\n",
      " |-- production_rate: double (nullable = true)\n",
      " |-- operating_hours: double (nullable = true)\n",
      " |-- downtime_hours: double (nullable = true)\n",
      " |-- operator_id: integer (nullable = true)\n",
      " |-- product_type: string (nullable = true)\n",
      " |-- raw_material_quality: string (nullable = true)\n",
      " |-- ambient_temperature: double (nullable = true)\n",
      " |-- ambient_humidity: double (nullable = true)\n",
      " |-- operation_date: timestamp (nullable = true)\n",
      " |-- days_since_maintenance: integer (nullable = true)\n",
      " |-- equipment_age_days: integer (nullable = true)\n",
      " |-- days_since_overhaul: integer (nullable = true)\n",
      " |-- temp_pct_of_max: double (nullable = true)\n",
      " |-- pressure_pct_of_max: double (nullable = true)\n",
      " |-- speed_pct_of_max: double (nullable = true)\n",
      " |-- cumulative_maintenance_cost: double (nullable = true)\n",
      " |-- cumulative_operating_hours: double (nullable = true)\n",
      " |-- estimated_rul: double (nullable = true)\n",
      " |-- criticality_encoded: double (nullable = true)\n",
      " |-- maintenance_type_encoded: double (nullable = true)\n",
      " |-- maintenance_result_encoded: double (nullable = true)\n",
      " |-- product_type_encoded: double (nullable = true)\n",
      " |-- raw_material_quality_encoded: double (nullable = true)\n",
      " |-- parts_replaced_encoded: double (nullable = true)\n",
      " |-- temperature_alert: string (nullable = true)\n",
      " |-- pressure_alert: string (nullable = true)\n",
      " |-- rotational_speed_alert: string (nullable = true)\n",
      " |-- power_output_alert: string (nullable = true)\n",
      " |-- noise_level_alert: string (nullable = true)\n",
      " |-- voltage_alert: string (nullable = true)\n",
      " |-- current_alert: string (nullable = true)\n",
      " |-- oil_viscosity_alert: string (nullable = true)\n",
      " |-- alert: string (nullable = true)\n",
      " |-- alert_score: integer (nullable = true)\n",
      " |-- age_condition_score: integer (nullable = false)\n",
      " |-- downtime_condition_score: integer (nullable = false)\n",
      " |-- maintenance_condition_score: integer (nullable = false)\n",
      " |-- environment_condition_score: integer (nullable = false)\n",
      " |-- criticality_avg_annual_cost: double (nullable = true)\n",
      " |-- threshold: double (nullable = true)\n",
      " |-- maintenance_cost_condition_score: integer (nullable = false)\n",
      " |-- operational_score: integer (nullable = false)\n",
      " |-- total_score: integer (nullable = true)\n",
      " |-- maintenance_needed: string (nullable = false)\n",
      "\n"
     ]
    }
   ],
   "source": [
    "df.printSchema()"
   ]
  },
  {
   "cell_type": "code",
   "execution_count": 23,
   "metadata": {},
   "outputs": [
    {
     "name": "stdout",
     "output_type": "stream",
     "text": [
      "File successfully saved to Maintenance recommendation/dataset_maintenance_recommendation.csv\n"
     ]
    }
   ],
   "source": [
    "# Convert Spark DataFrame to Pandas and save\n",
    "try:\n",
    "    # Convert to Pandas DataFrame\n",
    "    pandas_df = df.toPandas()\n",
    "    \n",
    "    # Create the directory if it doesn't exist\n",
    "    import os\n",
    "    os.makedirs(\"Maintenance recommendation\", exist_ok=True)\n",
    "    \n",
    "    # Save using Pandas\n",
    "    output_path = \"Maintenance recommendation/dataset_maintenance_recommendation.csv\"\n",
    "    pandas_df.to_csv(output_path, index=False)\n",
    "    print(f\"File successfully saved to {output_path}\")\n",
    "except Exception as e:\n",
    "    print(\"Error saving file:\", str(e))"
   ]
  },
  {
   "cell_type": "code",
   "execution_count": null,
   "metadata": {},
   "outputs": [],
   "source": []
  },
  {
   "cell_type": "code",
   "execution_count": null,
   "metadata": {},
   "outputs": [],
   "source": []
  }
 ],
 "metadata": {
  "kernelspec": {
   "display_name": "Python 3",
   "language": "python",
   "name": "python3"
  },
  "language_info": {
   "codemirror_mode": {
    "name": "ipython",
    "version": 3
   },
   "file_extension": ".py",
   "mimetype": "text/x-python",
   "name": "python",
   "nbconvert_exporter": "python",
   "pygments_lexer": "ipython3",
   "version": "3.9.0"
  }
 },
 "nbformat": 4,
 "nbformat_minor": 2
}
